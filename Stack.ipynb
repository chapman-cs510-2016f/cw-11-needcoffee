{
 "cells": [
  {
   "cell_type": "markdown",
   "metadata": {},
   "source": [
    "# Stacks in C\n",
    "## Alexis Ford and Afnan Alqahtani\n",
    "\n",
    "### Defining the `STACK` type\n",
    "The `STACK` type is defined as a pointer to a `stack` structure. This structure has two fields: an `SVALUE` type (an abstraction of an `int`) called `data`, and a pointer to a `stack` structure called `head`. Our structure thus works much like a linked list, wherein it contains data and a pointer to the next structure. This recursion ends when `head` points to `NULL`. The recursion also means that the only way to get to an element in the middle of a stack, it is necessary to go through all the elements before it in the stack. The type `STACK` itself is defined as a pointer to a `stack` structure. The advantage of doing this is that it becomes possible to define an empty `STACK`, which would simply be a `NULL` pointer.\n",
    "\n",
    "### Using the `STACK` type\n",
    "When a `STACK` is defined, there is nothing in the `data` field, and the `head` field points to `NULL`. In order to add data to the `STACK`, the data is pushed using the `push_stack` function. This function creates a new `STACK`, sets its `stack` `data` field to the value to be pushed, makes its `stack` `head` field point to the existing stack, then makes the original `STACK` point to the `stack` with the added data, since it is now at the top of the stack.\n",
    "\n",
    "Data can be removed from the top of a stack with the `pop_stack` function. Trying to pop from a an empty stack returns a `-1`. Otherwise, a temporary, empty stack is initialized and made to point to the same `stack` structure as the existing `STACK`. Once the data in the structure being pointed to is assigned elsewhere (to be returned at the end of the function), the original `STACK` is made to point to the same structure as `head`, which is the structure after the one we are removing. FInally, the temprary `STACK`, which is still pointing to the top element on the stack, is removed."
   ]
  }
 ],
 "metadata": {
  "anaconda-cloud": {},
  "kernelspec": {
   "display_name": "Python [default]",
   "language": "python",
   "name": "python3"
  },
  "language_info": {
   "codemirror_mode": {
    "name": "ipython",
    "version": 3
   },
   "file_extension": ".py",
   "mimetype": "text/x-python",
   "name": "python",
   "nbconvert_exporter": "python",
   "pygments_lexer": "ipython3",
   "version": "3.5.2"
  }
 },
 "nbformat": 4,
 "nbformat_minor": 1
}
