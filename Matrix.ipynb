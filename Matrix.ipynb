{
 "cells": [
  {
   "cell_type": "markdown",
   "metadata": {},
   "source": [
    "# Examine the source code  `matrix`"
   ]
  },
  {
   "cell_type": "markdown",
   "metadata": {
    "collapsed": false
   },
   "source": [
    "### Afnan Alqahtani and Alexis Ford"
   ]
  },
  {
   "cell_type": "markdown",
   "metadata": {},
   "source": [
    "## Describe how the MATRIX type is defined and how it works in detail.\n",
    "\n",
    "**`MATRIX new_matrix(const MINDEX rows, const MINDEX cols)`**\n",
    "\n",
    "\n",
    "Starting with a function name `new_matrix` with type `MATRIX` that takes two arguments (constant integer of row and constant integer of column). We’re creating an empty matrix name `m` ,although in memory this is one big long row. then we signed a pointer mat to array allocating rows and column of size integer.\n",
    "\n",
    "**`m.mat = (MVALUE *)calloc(rows * cols, sizeof(MVALUE));`**\n",
    "\n",
    "\n",
    "we signed a pointer mat to array allocating rows and column of size integer. The colloc didn’t work return `NULL` otherwise return `m`.\n",
    "\n",
    "**`free(m.mat);`**\n",
    "will delete the pointer to array and free the memory.\n",
    "\n",
    "**`void mset(MATRIX *m, const MINDEX row, const MINDEX col, const MVALUE v)`**\n",
    "\n",
    "\n",
    "The function `mset` give a row, column, and value. within our matrix we choose one value to change. \n",
    "The if statement is to make sure the index we specific is actually inside the matrix. It will return an error if that happens. \n",
    "\n",
    "**`*(m->mat + (m->cols * row) + col) = v; `** \n",
    "\n",
    "\n",
    "In the memory we have only one row and the computer can’t see the invisible line between the rows but we can, so since there is no indication when the row start or end we have this line. it will take how many column inside the matrix and multiply by the row number we have in our element and add the number of the column assign that location to the variable v. doing this always put us at the start of the row( + column) part gets us to the correct element in the row. So this is a pointer to the location we want. Then we are sitting that value of that pointer equal to the value we want.\n",
    "\n",
    "**question: is this the same as the following? (m->mat)[row][col] = v;**\n",
    "\n",
    "\n",
    "This is a valid indexing because how things represent in memory. It would make since if it stored in array but it’s not its stored in one long line.\n",
    "\n",
    "in the function `mget` we say what’s the element is equal to, and it will return  value integer.Then the function `print_value` will print the value v.\n",
    "\n",
    "Finally, the last two functions `print_matrix` will print the values of matrix, and `add_matrix` will add "
   ]
  },
  {
   "cell_type": "markdown",
   "metadata": {},
   "source": [
    "\n",
    "## Difference between \"row-major ordering\" and \"column-major ordering\" for multidimensional arrays, and which is the default in C."
   ]
  },
  {
   "cell_type": "markdown",
   "metadata": {},
   "source": [
    "Since the memory stores multidimensional array in a linear way. \n",
    "The rwo-major ordering :\n",
    "The elements of the rows of the array are next to each other in memory\n",
    "The column-major ordering :\n",
    "The elements of the column of the array are next to each other in memory\n",
    "\n",
    "The rwo-major ordering is the default in C"
   ]
  },
  {
   "cell_type": "markdown",
   "metadata": {},
   "source": [
    "## Explain how you could force C to use the non-default array ordering if desired."
   ]
  }
 ],
 "metadata": {
  "kernelspec": {
   "display_name": "Python 2 (SageMath)",
   "language": "python",
   "name": "python2"
  },
  "language_info": {
   "codemirror_mode": {
    "name": "ipython",
    "version": 2
   },
   "file_extension": ".py",
   "mimetype": "text/x-python",
   "name": "python",
   "nbconvert_exporter": "python",
   "pygments_lexer": "ipython2",
   "version": "2.7.10"
  }
 },
 "nbformat": 4,
 "nbformat_minor": 0
}
